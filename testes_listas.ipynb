{
  "nbformat": 4,
  "nbformat_minor": 0,
  "metadata": {
    "colab": {
      "provenance": [],
      "authorship_tag": "ABX9TyMQ8sExzU3aSOclOEmILOH6",
      "include_colab_link": true
    },
    "kernelspec": {
      "name": "python3",
      "display_name": "Python 3"
    },
    "language_info": {
      "name": "python"
    }
  },
  "cells": [
    {
      "cell_type": "markdown",
      "metadata": {
        "id": "view-in-github",
        "colab_type": "text"
      },
      "source": [
        "<a href=\"https://colab.research.google.com/github/lc-santos/Python-logica-de-programacao/blob/main/testes_listas.ipynb\" target=\"_parent\"><img src=\"https://colab.research.google.com/assets/colab-badge.svg\" alt=\"Open In Colab\"/></a>"
      ]
    },
    {
      "cell_type": "code",
      "execution_count": 13,
      "metadata": {
        "colab": {
          "base_uri": "https://localhost:8080/"
        },
        "id": "u5r8btatbFuU",
        "outputId": "922030f9-8272-4d14-9062-151eaf9cfd08"
      },
      "outputs": [
        {
          "output_type": "stream",
          "name": "stdout",
          "text": [
            "['livro1', 'livro2', 'livro3']\n",
            "livro2\n",
            "['livro1', 'livro2', 'livro3', 'livro4']\n",
            "['livro2', 'livro3', 'livro4']\n",
            "['livro1', 'livro2', 'livro3', 'livro4', 'livro5']\n"
          ]
        }
      ],
      "source": [
        "lista = ['livro1', 'livro2', 'livro3']\n",
        "\n",
        "# indice começa no 0\n",
        "print(lista)\n",
        "\n",
        "# pode se acessar a lista ao inverso com os números negativos\n",
        "print(lista[-2])\n",
        "\n",
        "#adicionar a lista\n",
        "lista.append('livro4')\n",
        "print(lista)\n",
        "\n",
        "#remover item da lista\n",
        "del lista[0]\n",
        "print(lista)\n",
        "\n",
        "#insere item na lista com indicação de posição\n",
        "lista.insert(0,'livro1')\n",
        "lista.insert(4,'livro5')\n",
        "print(lista)\n",
        "\n",
        "\n",
        "\n",
        "\n"
      ]
    }
  ]
}